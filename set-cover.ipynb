{
 "cells": [
  {
   "cell_type": "markdown",
   "metadata": {},
   "source": [
    "Copyright **`(c)`** 2024 Giovanni Squillero `<giovanni.squillero@polito.it>`  \n",
    "[`https://github.com/squillero/computational-intelligence`](https://github.com/squillero/computational-intelligence)  \n",
    "Free for personal or classroom use; see [`LICENSE.md`](https://github.com/squillero/computational-intelligence/blob/master/LICENSE.md) for details.  "
   ]
  },
  {
   "cell_type": "markdown",
   "metadata": {},
   "source": [
    "# Set Cover problem\n",
    "\n",
    "See: https://en.wikipedia.org/wiki/Set_cover_problem"
   ]
  },
  {
   "cell_type": "code",
   "execution_count": 39,
   "metadata": {},
   "outputs": [],
   "source": [
    "from random import random, seed\n",
    "from itertools import product\n",
    "import numpy as np\n",
    "from matplotlib import pyplot as plt\n",
    "\n",
    "from icecream import ic\n",
    "from tqdm.auto import tqdm # automatic progress bar"
   ]
  },
  {
   "cell_type": "markdown",
   "metadata": {},
   "source": [
    "## Reproducible Initialization\n",
    "\n",
    "If you want to get reproducible results, use `rng` (and restart the kernel); for non-reproducible ones, use `np.random`."
   ]
  },
  {
   "cell_type": "code",
   "execution_count": 2,
   "metadata": {},
   "outputs": [],
   "source": [
    "UNIVERSE_SIZE = 1000\n",
    "NUM_SETS = 200\n",
    "DENSITY = 0.1\n",
    "\n",
    "rng = np.random.Generator(np.random.PCG64([UNIVERSE_SIZE, NUM_SETS, int(10_000 * DENSITY)]))"
   ]
  },
  {
   "cell_type": "markdown",
   "metadata": {},
   "source": [
    "- `UNIVERSE_SIZE` is the number of items\n",
    "- `NUM_SETS` is the total number of sets associated to the universe initially\n",
    "- `DENSITY` is the probability of each item to belong to each set, or also the total cover of the unisverse by each set"
   ]
  },
  {
   "cell_type": "code",
   "execution_count": 3,
   "metadata": {},
   "outputs": [],
   "source": [
    "# DON'T EDIT THESE LINES!\n",
    "\n",
    "SETS = np.random.random((NUM_SETS, UNIVERSE_SIZE)) < DENSITY\n",
    "for s in range(UNIVERSE_SIZE):\n",
    "    if not np.any(SETS[:, s]):\n",
    "        SETS[np.random.randint(NUM_SETS), s] = True\n",
    "COSTS = np.pow(SETS.sum(axis=1), 1.1)"
   ]
  },
  {
   "cell_type": "markdown",
   "metadata": {},
   "source": [
    "- `SETS` is a `<NUM_SETS x UNIVERSE_SIZE>` vector indicating for each set whether each element of the universe belong to the set or not; `SETS` are randomly generated but in order to ensure UNIVERSE completeness, the loop check if some elements are not present in any set in order to add it to a random one in that case;\n",
    "- `COSTS` is a `<NUM_SETS>` vector indicating the total cost of each set;"
   ]
  },
  {
   "cell_type": "markdown",
   "metadata": {},
   "source": [
    "## Helper Functions"
   ]
  },
  {
   "cell_type": "code",
   "execution_count": 4,
   "metadata": {},
   "outputs": [],
   "source": [
    "def phenotype(solution):\n",
    "    \"\"\"Returns the phenotype of the solution\"\"\"\n",
    "    return np.logical_or.reduce(SETS[solution]) # LOGICAL OR OF ALL CHOSEN SETS ITEMS: presence of all items in this solution\n",
    "\n",
    "def valid(solution):\n",
    "    \"\"\"Checks wether solution is valid (ie. covers all universe)\"\"\"\n",
    "    return np.all(phenotype(solution))\n",
    "\n",
    "def cost(solution):\n",
    "    \"\"\"Returns the cost of a solution (to be minimized)\"\"\"\n",
    "    return COSTS[solution].sum()"
   ]
  },
  {
   "cell_type": "markdown",
   "metadata": {},
   "source": [
    "## Have Fun!"
   ]
  },
  {
   "cell_type": "markdown",
   "metadata": {},
   "source": [
    "A first trivial solution includes all sets in the \"*set of subsets*\""
   ]
  },
  {
   "cell_type": "code",
   "execution_count": null,
   "metadata": {},
   "outputs": [],
   "source": [
    "# A dumb solution of \"all\" sets\n",
    "solution = np.full(NUM_SETS, True)\n",
    "ic(solution);\n",
    "ic(valid(solution), cost(solution));"
   ]
  },
  {
   "cell_type": "markdown",
   "metadata": {},
   "source": [
    "Another solution includes half of the sets, but the number of subsets is very high so there is still complete coverage for most cases (maybe all)."
   ]
  },
  {
   "cell_type": "code",
   "execution_count": null,
   "metadata": {},
   "outputs": [],
   "source": [
    "# A random solution with random 50% of the sets\n",
    "solution = rng.random(NUM_SETS) < 0.5\n",
    "ic(solution);\n",
    "ic(valid(solution), cost(solution));"
   ]
  },
  {
   "cell_type": "markdown",
   "metadata": {},
   "source": [
    "### Hill Climbing Alg.\n",
    "We start by using Hill Climbing algorithm, and so we define the *tweaking function*:\n"
   ]
  },
  {
   "cell_type": "code",
   "execution_count": 7,
   "metadata": {},
   "outputs": [],
   "source": [
    "def single_mutation_tweak(sol: np.ndarray) -> np.ndarray:\n",
    "    \"\"\"tweaks provided solution\"\"\"\n",
    "    new_sol = sol.copy()\n",
    "    i = rng.integers(0,NUM_SETS) # generate random indexes\n",
    "    new_sol[i] = not new_sol[i] # flip generate indexes\n",
    "    return new_sol\n"
   ]
  },
  {
   "cell_type": "code",
   "execution_count": 8,
   "metadata": {},
   "outputs": [],
   "source": [
    "def multiple_mutation_tweak(sol: np.ndarray) -> np.ndarray:\n",
    "    \"\"\"tweaks provided solution\"\"\"\n",
    "    mask = rng.random(NUM_SETS)<0.01 # flip 1% of sets\n",
    "    new_sol = np.logical_xor(sol,mask)\n",
    "    return new_sol"
   ]
  },
  {
   "cell_type": "code",
   "execution_count": 9,
   "metadata": {},
   "outputs": [],
   "source": [
    "def fitness(solution: np.ndarray):\n",
    "    return (valid(solution),-cost(solution)) # only step into valid solutions"
   ]
  },
  {
   "cell_type": "code",
   "execution_count": null,
   "metadata": {},
   "outputs": [],
   "source": [
    "solution = rng.random(NUM_SETS) < .5 # start from a valid solution\n",
    "ic(fitness(solution))\n",
    "solution_fitness = fitness(solution)\n",
    "history = [solution_fitness[1]]\n",
    "tweak = multiple_mutation_tweak\n",
    "for steps in range(10_000):\n",
    "    new_solution = tweak(solution)\n",
    "    new_fitness = fitness(new_solution)\n",
    "    history.append(new_fitness[1])\n",
    "    if new_fitness>solution_fitness:\n",
    "        solution=new_solution\n",
    "        solution_fitness = new_fitness\n",
    "    \n",
    "ic(fitness(solution))\n",
    "plt.figure(figsize=(14, 8))\n",
    "plt.plot(\n",
    "    [max(history[: i + 1]) for i in range(len(history))],\n",
    "    color=\"red\",\n",
    ")\n",
    "plt.scatter(range(len(history)), history, marker=\".\");\n"
   ]
  },
  {
   "cell_type": "markdown",
   "metadata": {},
   "source": [
    "### Simulated Annealing\n",
    "Another option is to use a new variable temperature in order to accept worsening solution depening if the temperature is high or not."
   ]
  },
  {
   "cell_type": "code",
   "execution_count": 11,
   "metadata": {},
   "outputs": [],
   "source": [
    "def p_temp_swap(t,old_fitness,new_fitness):\n",
    "    if new_fitness>old_fitness:\n",
    "        return 1\n",
    "    else:\n",
    "        return np.exp(-(old_fitness-new_fitness)/t)\n",
    "\n",
    "def random_temp_swap(t,old_fitness,new_fitness):\n",
    "    return rng.random()<p_temp_swap(t,old_fitness,new_fitness)"
   ]
  },
  {
   "cell_type": "markdown",
   "metadata": {},
   "source": [
    "In this case, i choose to model the temperature as exponentially : the parameter *alpha* is the actual coefficient whose power of *k* iterations is used to perform the cool down."
   ]
  },
  {
   "cell_type": "code",
   "execution_count": 76,
   "metadata": {},
   "outputs": [],
   "source": [
    "def simulate_annealing(T_start,iterations,alpha,*,tweakingFunction=single_mutation_tweak):\n",
    "    temp = T_start\n",
    "\n",
    "\n",
    "    tweak = tweakingFunction\n",
    "    solution = rng.random(NUM_SETS) < .5 # start from a random solution\n",
    "    best_solution = solution\n",
    "    bs_fitness = fitness(best_solution)\n",
    "    ic(fitness(solution))\n",
    "    ic(temp)\n",
    "    solution_fitness = fitness(solution)\n",
    "    generated_history = np.array([solution_fitness[1]]) # history of proposed solutions (CAN BE INVALID)\n",
    "    gh_validity = np.array([solution_fitness[0]])\n",
    "    true_history = np.array([solution_fitness[1]]) # history of followed/adopted solutions (ALWAYS VALID)\n",
    "    for k in range(iterations):\n",
    "        new_solution = tweak(solution)\n",
    "        new_fitness = fitness(new_solution)\n",
    "        generated_history = np.append(generated_history,new_fitness[1])\n",
    "        gh_validity = np.append(gh_validity,new_fitness[0])\n",
    "        if new_fitness[0] and random_temp_swap(temp,solution_fitness[1],new_fitness[1]):\n",
    "            solution=new_solution\n",
    "            solution_fitness = new_fitness\n",
    "            if solution_fitness>bs_fitness:\n",
    "                best_solution = solution\n",
    "        true_history = np.append(true_history,solution_fitness[1])\n",
    "        temp = temp*alpha\n",
    "        \n",
    "    ic(fitness(solution))\n",
    "    ic(temp)\n",
    "    plt.figure(figsize=(14, 8))\n",
    "    plt.scatter(np.arange(len(generated_history))[gh_validity],generated_history[gh_validity], marker=\".\",label='Fitness of Valid Proposed Solutions')\n",
    "    plt.scatter(np.arange(len(generated_history))[~gh_validity],generated_history[~gh_validity], marker=\".\",label='Fitness of Invalid Proposed Solutions', color=\"red\")\n",
    "    plt.plot(\n",
    "        [max(generated_history[: i + 1]) for i in range(len(generated_history))],\n",
    "        color=\"orange\",\n",
    "        label='Maximum Fitness of All Proposed Solutions'\n",
    "    )\n",
    "    plt.plot(\n",
    "        true_history,\n",
    "        color=\"lime\",\n",
    "        linewidth=0.6,\n",
    "        label='Fitness of Accepted Solutions'\n",
    "    )\n",
    "    plt.legend()\n",
    "    return (best_solution,bs_fitness);"
   ]
  },
  {
   "cell_type": "markdown",
   "metadata": {},
   "source": [
    "Now, we define a function used to evaluate the result in a readable way:"
   ]
  },
  {
   "cell_type": "code",
   "execution_count": 87,
   "metadata": {},
   "outputs": [],
   "source": [
    "def evaluate_solution(sol):\n",
    "    indexes = np.where(sol[0])[0].tolist()\n",
    "    print(f\"Solution Obtained ({\"VALID\" if sol[1][0] else \"INVALID\"}):\\nincludes indexes ({len(indexes)}) {indexes}\\n Total Fitness = {float(sol[1][1])}\\n\")\n"
   ]
  },
  {
   "cell_type": "code",
   "execution_count": null,
   "metadata": {},
   "outputs": [],
   "source": [
    "bs = simulate_annealing(1_000,10_000,0.999);\n",
    "evaluate_solution(bs);"
   ]
  },
  {
   "cell_type": "markdown",
   "metadata": {},
   "source": [
    "### Iterated Local Search\n",
    "As we can see from the plot, the model focuses on **exploitation** when the temperature is high, and as it cools down the model is more focused on **exploitation**.\n",
    "This technique seems useful, but the risk is to remain stuck in a *plateau* or a *ridge* corresponding to a local maximum, as when the maximum is found much less exploration is done: this can be solved with **iterated local search**, by **restarting** the algorithm at certain points using the previous solutions as starting points. Therefore, i modified the previous function to use it in a repeatable way:"
   ]
  },
  {
   "cell_type": "code",
   "execution_count": 102,
   "metadata": {},
   "outputs": [],
   "source": [
    "def simulate_annealing(T_start,iterations,alpha,*,tweakingFunction=single_mutation_tweak,repeat=1):    \n",
    "    \n",
    "    temp = T_start\n",
    "    tweak = tweakingFunction\n",
    "    solution = rng.random(NUM_SETS) < .5 # start from a random solution\n",
    "    best_solution = solution\n",
    "    bs_fitness = fitness(best_solution)\n",
    "    \n",
    "    ic(fitness(solution))\n",
    "    ic(temp)\n",
    "    solution_fitness = fitness(solution)\n",
    "    generated_history = np.array([solution_fitness[1]]) # history of proposed solutions (CAN BE INVALID)\n",
    "    gh_validity = np.array([solution_fitness[0]])\n",
    "    true_history = np.array([solution_fitness[1]]) # history of followed/adopted solutions (ALWAYS VALID)\n",
    "    for r in tqdm(range(repeat),position=0,desc=\"Restarts\"):\n",
    "        temp = T_start\n",
    "        for k in tqdm(range(iterations),position=1):\n",
    "            new_solution = tweak(solution)\n",
    "            new_fitness = fitness(new_solution)\n",
    "            generated_history = np.append(generated_history,new_fitness[1])\n",
    "            gh_validity = np.append(gh_validity,new_fitness[0])\n",
    "            if new_fitness[0] and random_temp_swap(temp,solution_fitness[1],new_fitness[1]):\n",
    "                solution=new_solution\n",
    "                solution_fitness = new_fitness\n",
    "                if solution_fitness>bs_fitness:\n",
    "                    best_solution = new_solution\n",
    "                    bs_fitness = solution_fitness\n",
    "            true_history = np.append(true_history,solution_fitness[1])\n",
    "            temp = temp*alpha\n",
    "        \n",
    "    ic(fitness(solution))\n",
    "    ic(temp)\n",
    "    plt.figure(figsize=(14, 8))\n",
    "    plt.scatter(np.arange(len(generated_history))[gh_validity],generated_history[gh_validity], marker=\".\",label='Fitness of Valid Proposed Solutions')\n",
    "    plt.scatter(np.arange(len(generated_history))[~gh_validity],generated_history[~gh_validity], marker=\".\",label='Fitness of Invalid Proposed Solutions', color=\"red\")\n",
    "    plt.plot(\n",
    "        [max(generated_history[: i + 1]) for i in range(len(generated_history))],\n",
    "        color=\"orange\",\n",
    "        label='Maximum Fitness of All Proposed Solutions'\n",
    "    )\n",
    "    plt.plot(\n",
    "        true_history,\n",
    "        color=\"lime\",\n",
    "        linewidth=0.8,\n",
    "        label='Fitness of Accepted Solutions'\n",
    "    )\n",
    "    plt.legend()\n",
    "    return (best_solution,bs_fitness);"
   ]
  },
  {
   "cell_type": "code",
   "execution_count": null,
   "metadata": {},
   "outputs": [],
   "source": [
    "bs = simulate_annealing(100,10_000,0.999,repeat=5,tweakingFunction=multiple_mutation_tweak)\n",
    "evaluate_solution(bs);"
   ]
  }
 ],
 "metadata": {
  "kernelspec": {
   "display_name": "CI-venv",
   "language": "python",
   "name": "python3"
  },
  "language_info": {
   "codemirror_mode": {
    "name": "ipython",
    "version": 3
   },
   "file_extension": ".py",
   "mimetype": "text/x-python",
   "name": "python",
   "nbconvert_exporter": "python",
   "pygments_lexer": "ipython3",
   "version": "3.12.4"
  }
 },
 "nbformat": 4,
 "nbformat_minor": 4
}
